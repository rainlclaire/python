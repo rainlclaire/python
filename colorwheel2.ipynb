{
 "cells": [
  {
   "cell_type": "markdown",
   "metadata": {},
   "source": [
    "# Q7: Color Quantization"
   ]
  },
  {
   "cell_type": "markdown",
   "metadata": {},
   "source": [
    "# # map every color in an rgb image to cloest color in your color wheel."
   ]
  },
  {
   "cell_type": "markdown",
   "metadata": {},
   "source": [
    "# you can check the results in my MidtermQ7 folder."
   ]
  },
  {
   "cell_type": "markdown",
   "metadata": {},
   "source": [
    "To find the distance of two color. \n",
    "Map the cloest color in my color wheel to my image color.\n",
    "For each pixel, applying this rule until it done."
   ]
  },
  {
   "cell_type": "code",
   "execution_count": 1,
   "metadata": {
    "collapsed": false
   },
   "outputs": [],
   "source": [
    "from colorsys import rgb_to_hsv\n",
    "from PIL import Image, ImageDraw, ImageOps\n",
    "colorwheels = dict((\n",
    "((196, 2, 51), \"C1\"),\n",
    "((255, 165, 0), \"C2\"),\n",
    "((255, 205, 0), \"C3\"),\n",
    "((0, 128, 0), \"C4\"),\n",
    "((0, 0, 255), \"C5\"),\n",
    "((127, 0, 255), \"C6\"),\n",
    "((210, 255, 162), \"C7\"),\n",
    "((242, 129, 255), \"C8\"),))\n",
    "\n",
    "\n",
    "dir = '/Users/yuelingqin/Desktop/infor/4300image/'\n",
    "def to_hsv(color): \n",
    "    #print(color) rgb\n",
    "    \"\"\" converts color tuples to floats and then to hsv \"\"\"\n",
    "    #print(*[x/255.0 for x in color])\n",
    "    #return rgb_to_hsv(*[x/255.0 for x in color]) #rgb_to_hsv wants floats!\n",
    "    return (x/255.0 for x in color)\n",
    "\n",
    "def color_dist(c1, c2):\n",
    "    \"\"\" returns the squared euklidian distance between two color vectors in hsv space \"\"\"\n",
    "    #print c1 rgb\n",
    "    return sum((a-b)**2 for a,b in zip(to_hsv(c1),to_hsv(c2)) )\n",
    "\n",
    "  \n",
    "def min_color_diff(img,colorwheels):\n",
    "    \"\"\" returns the `(distance, color_name)` with the minimal distance to `colors`\"\"\"\n",
    "    (width, height) = img.size\n",
    "    #print colorwheels\n",
    "    for i in xrange(width):\n",
    "        for j in xrange(height):\n",
    "            r,g,b = img.getpixel((i,j))\n",
    "            color_to_match = (r,g,b)\n",
    "            for x,y in colorwheels.items():\n",
    "                rbg,colorwheel = min( # overal best is the best match to any color:\n",
    "                    (color_dist(color_to_match, x), colorwheels[x]) for x in colorwheels)\n",
    "                #print (x)\n",
    "                if (colorwheel == y):\n",
    "                    img.putpixel((i,j), x)\n",
    "\n",
    "\n",
    "    return img\n",
    "\n"
   ]
  },
  {
   "cell_type": "markdown",
   "metadata": {},
   "source": [
    "# handle color image"
   ]
  },
  {
   "cell_type": "code",
   "execution_count": 2,
   "metadata": {
    "collapsed": false
   },
   "outputs": [],
   "source": [
    "    \n",
    "img = Image.open(dir + \"23.jpg\")\n",
    "img = img.convert('RGB')\n",
    "im = min_color_diff(img, colorwheels)\n",
    "im.show()\n",
    "im.save('MyImage.png')"
   ]
  },
  {
   "cell_type": "markdown",
   "metadata": {},
   "source": [
    "# handle grayscale image"
   ]
  },
  {
   "cell_type": "code",
   "execution_count": 3,
   "metadata": {
    "collapsed": false
   },
   "outputs": [],
   "source": [
    "\n",
    "image_2 = Image.open(dir + \"TEST.png\")\n",
    "image_2 = image_2.convert('RGB')\n",
    "grayresult = min_color_diff(image_2, colorwheels)\n",
    "grayresult.save(\"gray.png\")\n"
   ]
  },
  {
   "cell_type": "code",
   "execution_count": 4,
   "metadata": {
    "collapsed": false
   },
   "outputs": [],
   "source": [
    "%matplotlib inline\n",
    "import matplotlib.pyplot as plt\n",
    "import numpy as np\n",
    "from skimage import io\n",
    "from PIL import Image, ImageDraw, ImageOps\n",
    "from skimage import segmentation as seg\n",
    "\n",
    "dir = '/Users/yuelingqin/Desktop/infor/4300image/'\n",
    "\n",
    "image_1 = io.imread(dir + '33.jpg', as_grey=True)\n",
    "image_2 = io.imread(dir + 'greyscale.jpg')\n",
    "image_3 = io.imread(dir + 'drawn.jpg')\n",
    "image_4 = io.imread(dir + '44.jpeg')\n",
    "image_5 = io.imread(dir + '23.jpg')\n",
    "\n",
    "\n",
    "image_1_sc = io.imread(dir + '33.jpg', )\n",
    "image_test = io.imread('/Users/yuelingqin/Desktop/' +'MyImage.png', )\n"
   ]
  },
  {
   "cell_type": "markdown",
   "metadata": {},
   "source": [
    "##According to color freq, we can update my color wheel."
   ]
  },
  {
   "cell_type": "markdown",
   "metadata": {},
   "source": [
    "find color freq of my image.\n",
    "based on high freq to update my color wheel.\n",
    "apply first funtion to draw my new image by using new color wheel."
   ]
  },
  {
   "cell_type": "code",
   "execution_count": 5,
   "metadata": {
    "collapsed": false
   },
   "outputs": [],
   "source": [
    "# find the color with highest frequency \n",
    "def freq_color(image, labels):\n",
    "    out = np.zeros_like(image)\n",
    "    colors = []\n",
    "    for label in np.unique(labels):\n",
    "        indices = np.nonzero(labels == label)\n",
    "        rgbArray = image[indices]\n",
    "        r = rgbArray[..., 0]\n",
    "        g = rgbArray[..., 1]\n",
    "        b = rgbArray[..., 2]\n",
    "        fr = high_freq(r)\n",
    "        fg = high_freq(g)\n",
    "        fb = high_freq(b)\n",
    "        out[indices] = (fr,fg,fb)\n",
    "        c = (fr,fg,fb)\n",
    "        colors.append(np.int_(c))\n",
    "    return out, colors\n",
    "\n",
    "\n",
    "# helper method, find number appears most frequently in array\n",
    "def high_freq(arr):\n",
    "    y = np.bincount(arr)\n",
    "    ii = np.nonzero(y)[0]\n",
    "    map = zip(ii,y[ii]) \n",
    "    n = map[0][1]\n",
    "    v = map[0][0]\n",
    "    for i in range(0, len(map)):\n",
    "        if map[i][1]>n:\n",
    "            n=map[i][1]\n",
    "            v=map[i][0]\n",
    "    return v\n",
    "\n",
    "\n",
    "\n",
    "# draw the output \n",
    "def draw_FreqColor(image, n): \n",
    "    downsample = image[::6,::6,:]\n",
    "    labels = seg.slic(downsample, n_segments=n+1, compactness=15)\n",
    "    out, colors = freq_color(downsample, labels)\n",
    "#     colors = [\"#5A31B4\",\"#8A64E0\",\"#888800\",\"#008800\",\"#008888\",\"#000088\",\"#440088\",\"#880088\"]\n",
    "    labels_image = out\n",
    "    # draw the color \n",
    "    pal = Image.new('RGB', (20*n, 20))\n",
    "    draw = ImageDraw.Draw(pal)\n",
    "    posx = 0 \n",
    "    colorwheel = {}\n",
    "    \n",
    "    for i in range(0,n):\n",
    "        draw.rectangle([posx, 0, posx+20, 20], fill=(colors[i][0],colors[i][1],colors[i][2]))\n",
    "        colorwheel[(colors[i][0], colors[i][1], colors[i][2])] = \"C\"+str(i+1)\n",
    "        posx = posx + 20\n",
    "\n",
    "    return colorwheel;"
   ]
  },
  {
   "cell_type": "markdown",
   "metadata": {},
   "source": [
    "# apply first code into the image."
   ]
  },
  {
   "cell_type": "code",
   "execution_count": 10,
   "metadata": {
    "collapsed": false
   },
   "outputs": [],
   "source": [
    "colorwheel = draw_FreqColor(image_5,8);\n",
    "im2 = min_color_diff(image_5,colorwheel)\n",
    "im2.show()\n",
    "im2.save('freqimage.png')\n",
    "#{(255, 205, 0): 'YELLOW', (242, 129, 255): 'PINK', (0, 0, 255): 'BLUE', (255, 165, 0): 'ORANGE', (196, 2, 51): 'RED', (127, 0, 255): 'VIOLET', (210, 255, 162): 'LIGHTGREEN', (0, 128, 0): 'GREEN'}"
   ]
  },
  {
   "cell_type": "code",
   "execution_count": 12,
   "metadata": {
    "collapsed": false
   },
   "outputs": [],
   "source": [
    "image2 = Image.open(dir + \"TEST.png\")\n",
    "image2 = image2.convert('RGB')\n",
    "grayresult = min_color_diff(image2, colorwheel) \n",
    "grayresult.save(\"gray.png\") #image saved in my MidtermQ7 folder, you can check the reuslt."
   ]
  },
  {
   "cell_type": "code",
   "execution_count": null,
   "metadata": {
    "collapsed": true
   },
   "outputs": [],
   "source": []
  }
 ],
 "metadata": {
  "kernelspec": {
   "display_name": "Python 2",
   "language": "python",
   "name": "python2"
  },
  "language_info": {
   "codemirror_mode": {
    "name": "ipython",
    "version": 2
   },
   "file_extension": ".py",
   "mimetype": "text/x-python",
   "name": "python",
   "nbconvert_exporter": "python",
   "pygments_lexer": "ipython2",
   "version": "2.7.10"
  }
 },
 "nbformat": 4,
 "nbformat_minor": 0
}
